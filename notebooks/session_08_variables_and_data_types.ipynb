{
 "cells": [
  {
   "cell_type": "markdown",
   "id": "8e1a4122",
   "metadata": {},
   "source": [
    "# Session 08 – Variables and Data Types\n",
    "\n",
    "---\n",
    "\n",
    "## 🎯 What is a Variable?\n",
    "\n",
    "A **variable** is a name that stores a value. You can use it later in your program.\n",
    "\n",
    "Think of a variable like a labeled box where you store information.\n",
    "\n",
    "In Python, we create a variable using a simple syntax:\n",
    "\n",
    "```python\n",
    "temperature = 25\n",
    "````\n",
    "\n",
    "Now the variable `temperature` stores the value `25`.\n",
    "\n",
    "---\n",
    "\n",
    "## 🔢 Data Types in Python\n",
    "\n",
    "Python supports many data types. Here are the most common:\n",
    "\n",
    "| Type    | Example         | Description             |\n",
    "| ------- | --------------- | ----------------------- |\n",
    "| `int`   | `42`            | Whole numbers           |\n",
    "| `float` | `3.14`          | Decimal numbers         |\n",
    "| `str`   | `\"Hello\"`       | Text (string)           |\n",
    "| `bool`  | `True`, `False` | Logical values (yes/no) |\n",
    "\n",
    "Let’s see how they work:\n",
    "\n",
    "---\n",
    "\n",
    "## 🧪 Examples\n",
    "\n",
    "### 📌 Integer (`int`)"
   ]
  },
  {
   "cell_type": "code",
   "execution_count": null,
   "id": "10038179",
   "metadata": {
    "vscode": {
     "languageId": "plaintext"
    }
   },
   "outputs": [],
   "source": [
    "age = 30\n",
    "print(age)\n",
    "print(type(age))"
   ]
  },
  {
   "cell_type": "markdown",
   "id": "684dd707",
   "metadata": {},
   "source": [
    "---\n",
    "\n",
    "### 📌 Float (`float`)\n"
   ]
  },
  {
   "cell_type": "code",
   "execution_count": null,
   "id": "2896e7bc",
   "metadata": {
    "vscode": {
     "languageId": "plaintext"
    }
   },
   "outputs": [],
   "source": [
    "height = 1.75\n",
    "print(height)\n",
    "print(type(height))"
   ]
  },
  {
   "cell_type": "markdown",
   "id": "4f176afe",
   "metadata": {},
   "source": [
    "---\n",
    "\n",
    "### 📌 String (`str`)\n"
   ]
  },
  {
   "cell_type": "code",
   "execution_count": null,
   "id": "2c126e6a",
   "metadata": {
    "vscode": {
     "languageId": "plaintext"
    }
   },
   "outputs": [],
   "source": [
    "name = \"Alice\"\n",
    "print(name)\n",
    "print(type(name))"
   ]
  },
  {
   "cell_type": "markdown",
   "id": "28d4f1bb",
   "metadata": {},
   "source": [
    "---\n",
    "\n",
    "### 📌 Boolean (`bool`)\n"
   ]
  },
  {
   "cell_type": "code",
   "execution_count": null,
   "id": "2a34a724",
   "metadata": {
    "vscode": {
     "languageId": "plaintext"
    }
   },
   "outputs": [],
   "source": [
    "is_student = True\n",
    "print(is_student)\n",
    "print(type(is_student))"
   ]
  },
  {
   "cell_type": "markdown",
   "id": "08433384",
   "metadata": {},
   "source": [
    "Booleans are useful for conditions and logic, like:"
   ]
  },
  {
   "cell_type": "code",
   "execution_count": null,
   "id": "31a596f6",
   "metadata": {
    "vscode": {
     "languageId": "plaintext"
    }
   },
   "outputs": [],
   "source": [
    "if is_student:\n",
    "    print(\"Welcome, student!\")\n",
    "else:\n",
    "    print(\"Welcome, guest!\")"
   ]
  },
  {
   "cell_type": "markdown",
   "id": "737a8210",
   "metadata": {},
   "source": [
    "---\n",
    "\n",
    "## ✏️ Exercise: Rewrite Previous Programs with Variables Instead of Input\n",
    "\n",
    "Let’s reuse our earlier examples, but replace `input()` with variables.\n",
    "\n",
    "### Even or Odd (no input)\n"
   ]
  },
  {
   "cell_type": "code",
   "execution_count": null,
   "id": "1cf28c83",
   "metadata": {
    "vscode": {
     "languageId": "plaintext"
    }
   },
   "outputs": [],
   "source": [
    "number = 8\n",
    "\n",
    "if number % 2 == 0:\n",
    "    print(\"Even number\")\n",
    "else:\n",
    "    print(\"Odd number\")"
   ]
  },
  {
   "cell_type": "markdown",
   "id": "c0995073",
   "metadata": {},
   "source": [
    "---\n",
    "\n",
    "### Celsius to Fahrenheit (no input)"
   ]
  },
  {
   "cell_type": "code",
   "execution_count": null,
   "id": "f678286d",
   "metadata": {
    "vscode": {
     "languageId": "plaintext"
    }
   },
   "outputs": [],
   "source": [
    "celsius = 30\n",
    "fahrenheit = (celsius * 9/5) + 32\n",
    "\n",
    "print(\"Temperature in Fahrenheit is:\", fahrenheit)"
   ]
  },
  {
   "cell_type": "markdown",
   "id": "8fc98e84",
   "metadata": {},
   "source": [
    "Try changing the value of `celsius` to 0, 100, or any other number.\n",
    "\n",
    "---\n",
    "\n",
    "## 🔄 Summary\n",
    "\n",
    "* Variables store values we use in a program.\n",
    "* Python has different **data types**:\n",
    "\n",
    "  * `int` for whole numbers\n",
    "  * `float` for decimal numbers\n",
    "  * `str` for text\n",
    "  * `bool` for true/false logic\n",
    "* You can use `type()` to check a variable’s type.\n",
    "\n",
    "---\n",
    "\n",
    "In the next session, we will learn about **arithmetic operations and expressions**.\n",
    "\n",
    "```"
   ]
  }
 ],
 "metadata": {
  "language_info": {
   "name": "python"
  }
 },
 "nbformat": 4,
 "nbformat_minor": 5
}
