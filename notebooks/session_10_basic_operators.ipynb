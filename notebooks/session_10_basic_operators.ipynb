{
 "cells": [
  {
   "cell_type": "markdown",
   "id": "302561ce",
   "metadata": {},
   "source": [
    "## 🧮 Session 10 – Operators\n",
    "\n",
    "Before we do more complex tasks in Python, we need to understand **operators**.\n",
    "Operators allow us to **work with variables and values**.\n",
    "\n",
    "---\n",
    "\n",
    "### 📌 **Types of Operators**\n",
    "\n",
    "* **Arithmetic** ➡ `+`, `-`, `*`, `/`, `//`, `%`, `**`\n",
    "* **Comparison** ➡ `==`, `!=`, `>`, `<`, `>=`, `<=`\n",
    "* **Assignment** ➡ `=`, `+=`, `-=`, `*=`, `/=`\n",
    "* **Logical** ➡ `and`, `or`, `not`\n",
    "\n",
    "---\n",
    "\n",
    "### 🖥 Example Code"
   ]
  },
  {
   "cell_type": "code",
   "execution_count": null,
   "id": "fd16b021",
   "metadata": {
    "vscode": {
     "languageId": "plaintext"
    }
   },
   "outputs": [],
   "source": [
    "# Arithmetic\n",
    "x = 5\n",
    "y = 2\n",
    "print(x + y)   # 7\n",
    "print(x - y)   # 3\n",
    "print(x * y)   # 10\n",
    "print(x / y)   # 2.5\n",
    "print(x // y)  # 2\n",
    "print(x % y)   # 1\n",
    "print(x ** y)  # 25\n",
    "\n",
    "# Comparison\n",
    "print(x == y)  # False\n",
    "print(x > y)   # True\n",
    "\n",
    "# Assignment\n",
    "z = 10\n",
    "z += 3\n",
    "print(z)       # 13\n",
    "\n",
    "# Logical\n",
    "print(x > 1 and y < 5)  # True\n",
    "print(x > 10 or y < 5)  # True\n",
    "print(not(x > 10))      # True"
   ]
  },
  {
   "cell_type": "markdown",
   "id": "0f389506",
   "metadata": {},
   "source": [
    "---\n",
    "\n",
    "### ✍️ Your Turn\n",
    "\n",
    "1. Create two variables `a` and `b` with numbers.\n",
    "2. Try **all arithmetic operators**.\n",
    "3. Compare them using `==`, `!=`, `>`, `<`.\n",
    "4. Use `and`, `or`, `not` in your own conditions."
   ]
  },
  {
   "cell_type": "code",
   "execution_count": null,
   "id": "937edbac",
   "metadata": {
    "vscode": {
     "languageId": "plaintext"
    }
   },
   "outputs": [],
   "source": [
    "# 🧪 Practice Area\n",
    "# Use the space below to test the concepts.\n"
   ]
  }
 ],
 "metadata": {
  "language_info": {
   "name": "python"
  }
 },
 "nbformat": 4,
 "nbformat_minor": 5
}
