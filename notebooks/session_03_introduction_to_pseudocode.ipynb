{
  "nbformat": 4,
  "nbformat_minor": 0,
  "metadata": {
    "colab": {
      "provenance": [],
      "authorship_tag": "ABX9TyPyrVKJ6xxw4BN/0U+PS56l",
      "include_colab_link": true
    },
    "kernelspec": {
      "name": "python3",
      "display_name": "Python 3"
    },
    "language_info": {
      "name": "python"
    }
  },
  "cells": [
    {
      "cell_type": "markdown",
      "metadata": {
        "id": "view-in-github",
        "colab_type": "text"
      },
      "source": [
        "<a href=\"https://colab.research.google.com/github/sergio-a-hernandez/Python_in_5_minutes/blob/main/notebooks/session_03_introduction_to_pseudocode.ipynb\" target=\"_parent\"><img src=\"https://colab.research.google.com/assets/colab-badge.svg\" alt=\"Open In Colab\"/></a>"
      ]
    },
    {
      "cell_type": "markdown",
      "source": [
        "# Session 03: Introduction to Pseudocode\n",
        "\n",
        "Welcome to session 3 of **Python in 5 Minutes**!\n",
        "\n",
        "Today we will learn about **pseudocode**, a simple way to write algorithms using plain language before translating them into actual code.\n",
        "\n",
        "\n",
        "## What is Pseudocode?\n",
        "\n",
        "Pseudocode is an informal language that helps programmers plan the structure and logic of their code without worrying about syntax.\n",
        "\n",
        "It uses natural language and programming concepts like loops, conditionals, and variables in a readable way.\n",
        "\n",
        "\n",
        "## Why Use Pseudocode?\n",
        "\n",
        "- It bridges the gap between an algorithm and real code.  \n",
        "- It helps clarify complex logic before coding.  \n",
        "- It is easy to read and share with others who may not know programming.\n",
        "\n",
        "\n",
        "## Pseudocode Basics\n",
        "\n",
        "Here are some common constructs:\n",
        "\n",
        "- **Start** and **End** to mark the beginning and end  \n",
        "- **Input** and **Output** for user interaction  \n",
        "- **If...Then...Else** for decisions  \n",
        "- **While** or **For** loops for repetition  \n",
        "- Use indentation or line breaks to show structure  \n",
        "\n",
        "\n",
        "## Example: Making Tea in Pseudocode (with Input)\n",
        "\n",
        "```\n",
        "START\n",
        "  ASK user: \"What flavor of tea do you want?\"\n",
        "  STORE user input in TEA_FLAVOR\n",
        "  Heat water UNTIL boil\n",
        "  Place TEA_FLAVOR tea bag in cup\n",
        "  POUR boiling water into cup\n",
        "  WAIT for 3 to 5 minutes\n",
        "  Remove tea bag\n",
        "  IF TEA_FLAVOR is \"green\" THEN\n",
        "    OUTPUT \"Enjoy your green tea!\"\n",
        "  ELSE IF TEA_FLAVOR is \"black\" THEN\n",
        "    OUTPUT \"Enjoy your black tea!\"\n",
        "  ELSE\n",
        "    OUTPUT \"Enjoy your tea!\"\n",
        "  ENDIF\n",
        "END\n",
        "```\n",
        "\n",
        "## Mini Exercise\n",
        "\n",
        "Write pseudocode for one of these tasks:\n",
        "\n",
        "- Making a sandwich  \n",
        "- Getting ready in the morning  \n",
        "- Sending an email  \n",
        "\n",
        "Try to include at least one input from the user.\n",
        "\n",
        "Next time, we will start turning pseudocode into real Python code!\n"
      ],
      "metadata": {
        "id": "Hhuf2ukPtuql"
      }
    }
  ]
}