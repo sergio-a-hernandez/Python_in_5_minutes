{
  "nbformat": 4,
  "nbformat_minor": 0,
  "metadata": {
    "colab": {
      "provenance": [],
      "authorship_tag": "ABX9TyMd2SxdouiUS47D5bxUUFSc",
      "include_colab_link": true
    },
    "kernelspec": {
      "name": "python3",
      "display_name": "Python 3"
    },
    "language_info": {
      "name": "python"
    }
  },
  "cells": [
    {
      "cell_type": "markdown",
      "metadata": {
        "id": "view-in-github",
        "colab_type": "text"
      },
      "source": [
        "<a href=\"https://colab.research.google.com/github/sergio-a-hernandez/Python_in_5_minutes/blob/main/notebooks/session_02_flowcharts.ipynb\" target=\"_parent\"><img src=\"https://colab.research.google.com/assets/colab-badge.svg\" alt=\"Open In Colab\"/></a>"
      ]
    },
    {
      "cell_type": "markdown",
      "source": [
        "# Session 02: Introduction to Flowcharts\n",
        "\n",
        "Welcome back to **Python in 5 Minutes**!\n",
        "\n",
        "In this session, we'll learn about **flowcharts**, a visual way to represent algorithms and the flow of data and decisions.\n",
        "\n",
        "\n",
        "\n",
        "## What is a Flowchart?\n",
        "\n",
        "A *flowchart* is a diagram that uses different shapes connected by arrows to show the sequence of steps in a process.\n",
        "\n",
        "It helps us visualize how the algorithm works, making it easier to understand and communicate.\n",
        "\n",
        "### Common Flowchart Symbols:\n",
        "\n",
        "- **Oval**: Start or End  \n",
        "- **Rectangle**: Process or Action  \n",
        "- **Diamond**: Decision (Yes/No)  \n",
        "- **Arrow**: Flow of control\n",
        "\n",
        "\n",
        "\n",
        "## Example Flowchart: Making Tea\n",
        "\n",
        "```\n",
        "\n",
        "(Start) → Boil Water → Place Tea Bag in Cup → Pour Water → Steep Tea? (Decision)\n",
        "↓                          ↓                        ↓\n",
        "Yes → Steep for 3-5 min → Remove Tea Bag → Add Sugar/Milk → (End)\n",
        "No → Wait\n",
        "\n",
        "```\n",
        "\n",
        "\n",
        "\n",
        "## Why Use Flowcharts?\n",
        "\n",
        "- Simplify complex processes  \n",
        "- Identify decision points  \n",
        "- Plan programming logic before coding\n",
        "\n",
        "\n",
        "\n",
        "## Mini Exercise\n",
        "\n",
        "Draw a flowchart for one of the algorithms you wrote in the previous session.\n",
        "\n",
        "You can do it on paper, or use online tools like [draw.io](https://draw.io) or [Lucidchart](https://lucidchart.com).\n",
        "\n",
        "\n",
        "\n",
        "Next session, we'll start writing simple Python code based on these algorithms and flowcharts.\n"
      ],
      "metadata": {
        "id": "cpxF9s_OpBEq"
      }
    }
  ]
}