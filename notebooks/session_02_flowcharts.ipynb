# Session 02: Introduction to Flowcharts

```markdown
# Session 02: Introduction to Flowcharts

Welcome back to **Python in 5 Minutes**!

In this session, we'll learn about **flowcharts**, a visual way to represent algorithms and the flow of data and decisions.


## What is a Flowchart?

A *flowchart* is a diagram that uses different shapes connected by arrows to show the sequence of steps in a process.

It helps us visualize how the algorithm works, making it easier to understand and communicate.

### Common Flowchart Symbols:

- **Oval**: Start or End  
- **Rectangle**: Process or Action  
- **Diamond**: Decision (Yes/No)  
- **Arrow**: Flow of control


## Example Flowchart: Making Tea

```

(Start) → Boil Water → Place Tea Bag in Cup → Pour Water → Steep Tea? (Decision)
↓                          ↓                        ↓
Yes → Steep for 3-5 min → Remove Tea Bag → Add Sugar/Milk → (End)
No → Wait

```


## Why Use Flowcharts?

- Simplify complex processes  
- Identify decision points  
- Plan programming logic before coding


## Mini Exercise

Draw a flowchart for one of the algorithms you wrote in the previous session.

You can do it on paper, or use online tools like [draw.io](https://draw.io) or [Lucidchart](https://lucidchart.com).


Next session, we'll start writing simple Python code based on these algorithms and flowcharts.
```
