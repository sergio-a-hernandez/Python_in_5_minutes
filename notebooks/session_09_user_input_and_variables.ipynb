{
 "cells": [
  {
   "cell_type": "markdown",
   "id": "782c10eb",
   "metadata": {},
   "source": [
    "# Session 09 – Practice: User Input and Variable Types\n",
    "\n",
    "---\n",
    "\n",
    "## 🤖 Let’s Talk to the User\n",
    "\n",
    "In this session, we’ll ask the user for information using `input()`, and store that data in a variable.\n",
    "\n",
    "⚠️ Reminder: `input()` always returns a **string**, even if the user types a number.\n",
    "\n",
    "So if you need a number, you must convert it using:\n",
    "\n",
    "- `int()` for integers\n",
    "- `float()` for decimal numbers\n",
    "\n",
    "---\n",
    "\n",
    "## 🧪 Example 1: Integer Input"
   ]
  },
  {
   "cell_type": "code",
   "execution_count": null,
   "id": "20782232",
   "metadata": {
    "vscode": {
     "languageId": "plaintext"
    }
   },
   "outputs": [],
   "source": [
    "age = input(\"Enter your age: \")\n",
    "print(age)\n",
    "print(type(age))"
   ]
  },
  {
   "cell_type": "markdown",
   "id": "d32e368b",
   "metadata": {},
   "source": [
    "❗ This prints the age, but the type is still a string.\n",
    "\n",
    "Let’s convert it:"
   ]
  },
  {
   "cell_type": "code",
   "execution_count": null,
   "id": "34f5efa3",
   "metadata": {
    "vscode": {
     "languageId": "plaintext"
    }
   },
   "outputs": [],
   "source": [
    "age = int(input(\"Enter your age: \"))\n",
    "print(\"You are\", age, \"years old.\")\n",
    "print(\"Type of variable:\", type(age))"
   ]
  },
  {
   "cell_type": "markdown",
   "id": "f788b510",
   "metadata": {},
   "source": [
    "---\n",
    "\n",
    "## 🧪 Example 2: Float Input"
   ]
  },
  {
   "cell_type": "code",
   "execution_count": null,
   "id": "c5581edf",
   "metadata": {
    "vscode": {
     "languageId": "plaintext"
    }
   },
   "outputs": [],
   "source": [
    "height = float(input(\"Enter your height in meters: \"))\n",
    "print(\"Your height is\", height, \"meters.\")\n",
    "print(\"Type of variable:\", type(height))"
   ]
  },
  {
   "cell_type": "markdown",
   "id": "937c39ae",
   "metadata": {},
   "source": [
    "---\n",
    "\n",
    "## 🧪 Example 3: String Input"
   ]
  },
  {
   "cell_type": "code",
   "execution_count": null,
   "id": "0650f0ae",
   "metadata": {
    "vscode": {
     "languageId": "plaintext"
    }
   },
   "outputs": [],
   "source": [
    "name = input(\"What is your name? \")\n",
    "print(\"Hello,\", name + \"!\")\n",
    "print(\"Type of variable:\", type(name))"
   ]
  },
  {
   "cell_type": "markdown",
   "id": "3547e11b",
   "metadata": {},
   "source": [
    "---\n",
    "\n",
    "## 🧪 Example 4: Boolean Input\n",
    "\n",
    "We don’t have direct `bool(input())`, but we can simulate it."
   ]
  },
  {
   "cell_type": "code",
   "execution_count": null,
   "id": "dc607760",
   "metadata": {
    "vscode": {
     "languageId": "plaintext"
    }
   },
   "outputs": [],
   "source": [
    "answer = input(\"Are you a student? (yes/no): \")\n",
    "\n",
    "is_student = answer.lower() == \"yes\"\n",
    "\n",
    "print(\"Student:\", is_student)\n",
    "print(\"Type of variable:\", type(is_student))"
   ]
  },
  {
   "cell_type": "markdown",
   "id": "a6f7a7e3",
   "metadata": {},
   "source": [
    "💡 We used `.lower()` to handle \"Yes\", \"YES\", or \"yes\" equally.\n",
    "⚠️ We haven't learned how comparison works yet.  \n",
    "For now, just know that `\"something\" == \"something\"` checks if they are equal.  \n",
    "We'll explore this in the further sessions.\n",
    "\n",
    "---\n",
    "\n",
    "## 🧠 Combine Everything\n",
    "\n",
    "Let’s ask for several inputs and calculate something:"
   ]
  },
  {
   "cell_type": "code",
   "execution_count": null,
   "id": "d63df0e4",
   "metadata": {
    "vscode": {
     "languageId": "plaintext"
    }
   },
   "outputs": [],
   "source": [
    "name = input(\"Enter your name: \")\n",
    "age = int(input(\"Enter your age: \"))\n",
    "weight = float(input(\"Enter your weight in kilograms: \"))\n",
    "\n",
    "print(\"\\nSummary:\")\n",
    "print(\"Name:\", name)\n",
    "print(\"Age:\", age)\n",
    "print(\"Weight:\", weight, \"kg\")"
   ]
  },
  {
   "cell_type": "markdown",
   "id": "42cd9b72",
   "metadata": {},
   "source": [
    "---\n",
    "\n",
    "## ✏️ Exercise\n",
    "\n",
    "Ask the user to enter:\n",
    "\n",
    "1. A temperature in Celsius → convert it to Fahrenheit"
   ]
  },
  {
   "cell_type": "code",
   "execution_count": null,
   "id": "6c991113",
   "metadata": {
    "vscode": {
     "languageId": "plaintext"
    }
   },
   "outputs": [],
   "source": [
    "# 🧪 Practice Area\n",
    "# Use this space to create your own variables and test the concepts.\n"
   ]
  },
  {
   "cell_type": "markdown",
   "id": "077d4698",
   "metadata": {},
   "source": [
    "2. A number → check if it’s even or odd"
   ]
  },
  {
   "cell_type": "code",
   "execution_count": null,
   "id": "5b86d1df",
   "metadata": {
    "vscode": {
     "languageId": "plaintext"
    }
   },
   "outputs": [],
   "source": [
    "# 🧪 Practice Area\n",
    "# Use this space to create your own variables and test the concepts.\n"
   ]
  },
  {
   "cell_type": "markdown",
   "id": "e284d5aa",
   "metadata": {},
   "source": [
    "3. A yes/no question → store it as a Boolean"
   ]
  },
  {
   "cell_type": "code",
   "execution_count": null,
   "id": "1b875602",
   "metadata": {
    "vscode": {
     "languageId": "plaintext"
    }
   },
   "outputs": [],
   "source": [
    "# 🧪 Practice Area\n",
    "# Use this space to create your own variables and test the concepts.\n"
   ]
  },
  {
   "cell_type": "markdown",
   "id": "71a9c1ae",
   "metadata": {},
   "source": [
    "---\n",
    "\n",
    "## ✅ Summary\n",
    "\n",
    "* `input()` always returns a string → you must convert it.\n",
    "* Use `int()`, `float()`, or logical checks to assign proper types.\n",
    "* You can ask for multiple values and use them in calculations."
   ]
  }
 ],
 "metadata": {
  "language_info": {
   "name": "python"
  }
 },
 "nbformat": 4,
 "nbformat_minor": 5
}
