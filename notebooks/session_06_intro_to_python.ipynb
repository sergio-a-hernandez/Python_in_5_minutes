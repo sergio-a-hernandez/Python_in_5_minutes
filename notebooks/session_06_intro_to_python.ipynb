{
 "cells": [
  {
   "cell_type": "markdown",
   "id": "ea4e3f8e",
   "metadata": {},
   "source": [
    "# Session 06 – Introduction to Python\n",
    "\n",
    "\n",
    "\n",
    "## 🐍 What is Python?\n",
    "\n",
    "Python is a **programming language** used by millions around the world. It is known for being:\n",
    "\n",
    "- **Easy to read and write** — great for beginners.\n",
    "- **Multipurpose** — used in web development, data science, automation, robotics, and more.\n",
    "- **Interpreted** — this means you can write code and run it right away, without a separate compiling step.\n",
    "\n",
    "\n",
    "\n",
    "## 🧩 Why is Python so popular?\n",
    "\n",
    "- It has a **large community** of users and developers.\n",
    "- There are thousands of **libraries** (ready-made code) that help you do complex tasks easily.\n",
    "- You can find tons of tutorials, forums, and videos online.\n",
    "- Today, even **AI tools** like ChatGPT can help you write, debug, and learn Python faster!\n",
    "\n",
    "\n",
    "\n",
    "## 💡 What is an interpreter?\n",
    "\n",
    "Python uses an **interpreter**, a program that reads your code and executes it line by line. This lets you:\n",
    "\n",
    "- Test your ideas quickly.\n",
    "- Get immediate feedback.\n",
    "- Learn interactively.\n",
    "\n",
    "\n",
    "\n",
    "## 🎯 Summary\n",
    "\n",
    "Python is a powerful, beginner-friendly language with strong community support and many tools that make programming easier.\n",
    "\n",
    "In the next part, we will see how to write and run Python code using a simple program called **IDLE**."
   ]
  }
 ],
 "metadata": {
  "language_info": {
   "name": "python"
  }
 },
 "nbformat": 4,
 "nbformat_minor": 5
}
