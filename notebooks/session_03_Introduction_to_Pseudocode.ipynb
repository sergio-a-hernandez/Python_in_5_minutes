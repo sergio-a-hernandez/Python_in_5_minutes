# Session 03: Introduction to Pseudocode

Welcome to session 3 of **Python in 5 Minutes**!

Today we will learn about **pseudocode**, a simple way to write algorithms using plain language before translating them into actual code.


## What is Pseudocode?

Pseudocode is an informal language that helps programmers plan the structure and logic of their code without worrying about syntax.

It uses natural language and programming concepts like loops, conditionals, and variables in a readable way.


## Why Use Pseudocode?

- It bridges the gap between an algorithm and real code.  
- It helps clarify complex logic before coding.  
- It is easy to read and share with others who may not know programming.


## Pseudocode Basics

Here are some common constructs:

- **Start** and **End** to mark the beginning and end  
- **Input** and **Output** for user interaction  
- **If...Then...Else** for decisions  
- **While** or **For** loops for repetition  
- Use indentation or line breaks to show structure  


## Example: Making Tea in Pseudocode (with Input)

```
START
  ASK user: "What flavor of tea do you want?"
  STORE user input in TEA_FLAVOR
  Heat water UNTIL boil
  Place TEA_FLAVOR tea bag in cup
  POUR boiling water into cup
  WAIT for 3 to 5 minutes
  Remove tea bag
  IF TEA_FLAVOR is "green" THEN
    OUTPUT "Enjoy your green tea!"
  ELSE IF TEA_FLAVOR is "black" THEN
    OUTPUT "Enjoy your black tea!"
  ELSE
    OUTPUT "Enjoy your tea!"
  ENDIF
END
```

## Mini Exercise

Write pseudocode for one of these tasks:

- Making a sandwich  
- Getting ready in the morning  
- Sending an email  

Try to include at least one input from the user.

Next time, we will start turning pseudocode into real Python code!
