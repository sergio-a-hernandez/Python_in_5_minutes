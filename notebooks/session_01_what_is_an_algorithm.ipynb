{
 "cells": [
  {
   "cell_type": "markdown",
   "metadata": {},
   "source": [
    "# Session 01: What is an Algorithm?\n",
    "\n",
    "Welcome to the first session of **Python in 5 Minutes**!\n",
    "\n",
    "In this lesson, we'll explore the fundamental concept of an algorithm — the step-by-step instructions that solve a problem or perform a task.\n",
    "\n",
    "---\n",
    "\n",
    "## What is an Algorithm?\n",
    "\n",
    "An *algorithm* is a precise sequence of well-defined steps that takes an input, processes it, and produces an output.\n",
    "\n",
    "It is the foundation of all computer programs, including Python scripts.\n",
    "\n",
    "### Example:\n",
    "\n",
    "Imagine you want to make a cup of tea. The algorithm might look like this:\n",
    "1. Boil water.\n",
    "2. Place a tea bag in the cup.\n",
    "3. Pour boiling water into the cup.\n",
    "4. Let it steep for 3-5 minutes.\n",
    "5. Remove the tea bag.\n",
    "6. Add sugar or milk if desired.\n",
    "7. Enjoy your tea.\n",
    "\n",
    "This is a clear, step-by-step procedure that anyone can follow to get the same result.\n",
    "\n",
    "---\n",
    "\n",
    "## Why are Algorithms Important?\n",
    "\n",
    "- They break complex problems into simple, manageable steps.\n",
    "- They make programming logical and predictable.\n",
    "- They help us communicate solutions clearly.\n",
    "\n",
    "---\n",
    "\n",
    "## Mini Exercise\n",
    "\n",
    "Write a simple algorithm (in plain English or pseudocode) for one of the following tasks:\n",
    "- Making a sandwich\n",
    "- Getting ready in the morning\n",
    "- Sending an email\n",
    "\n",
    "Try to be as detailed as possible.\n",
    "\n",
    "We will discuss this in the next session!\n"
   ]
  }
 ],
 "metadata": {
  "kernelspec": {
   "display_name": "Python 3",
   "language": "python",
   "name": "python3"
  },
  "language_info": {
   "name": "python",
   "version": "3.10"
  }
 },
 "nbformat": 4,
 "nbformat_minor": 5
}

